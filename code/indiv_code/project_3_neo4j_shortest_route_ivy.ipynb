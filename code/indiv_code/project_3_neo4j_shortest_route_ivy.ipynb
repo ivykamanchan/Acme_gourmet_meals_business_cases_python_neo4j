{
 "cells": [
  {
   "cell_type": "markdown",
   "id": "49a528f4",
   "metadata": {},
   "source": [
    "# Project 3"
   ]
  },
  {
   "cell_type": "markdown",
   "id": "24555e2c",
   "metadata": {},
   "source": [
    "### University of California, Berkeley\n",
    "### Master of Information and Data Science Program (MIDS)\n",
    "### w205 - Fundamentals of Data Engineering\n",
    "\n",
    "* Year: 2022\n",
    "* Semester: Summer\n",
    "* Section: 02\n",
    "* Instructor: Korin Reid\n",
    "* Team Members:\n",
    "    * team member 1 Iris Lew\n",
    "    * team member 2 Ivy Chan\n",
    "    * team member 3 Ghiwa Lamah\n"
   ]
  },
  {
   "cell_type": "markdown",
   "id": "c68ca69e",
   "metadata": {},
   "source": [
    "# Verify Shortest Paths"
   ]
  },
  {
   "cell_type": "code",
   "execution_count": 1,
   "id": "9cd46c1d",
   "metadata": {},
   "outputs": [],
   "source": [
    "import neo4j\n",
    "\n",
    "import csv\n",
    "\n",
    "import math\n",
    "import numpy as np\n",
    "import pandas as pd\n",
    "\n",
    "import psycopg2\n",
    "\n",
    "import json\n",
    "\n",
    "import gmaps\n",
    "import gmaps.geojson_geometries\n",
    "\n",
    "from geographiclib.geodesic import Geodesic"
   ]
  },
  {
   "cell_type": "code",
   "execution_count": 2,
   "id": "fab5a8c1",
   "metadata": {},
   "outputs": [],
   "source": [
    "driver = neo4j.GraphDatabase.driver(uri=\"neo4j://neo4j:7687\", auth=(\"neo4j\",\"w205\"))"
   ]
  },
  {
   "cell_type": "code",
   "execution_count": 3,
   "id": "75265fa1",
   "metadata": {},
   "outputs": [],
   "source": [
    "session = driver.session(database=\"neo4j\")"
   ]
  },
  {
   "cell_type": "code",
   "execution_count": 4,
   "id": "fd296e3e",
   "metadata": {},
   "outputs": [],
   "source": [
    "def my_neo4j_shortest_path(from_station, to_station):\n",
    "    \"given a from station and to station, run and print the shortest path\"\n",
    "    \n",
    "    query = \"CALL gds.graph.drop('ds_graph', false)\"\n",
    "    session.run(query)\n",
    "\n",
    "    query = \"CALL gds.graph.create('ds_graph', 'Station', 'LINK', {relationshipProperties: 'weight'})\"\n",
    "    session.run(query)\n",
    "\n",
    "    query = \"\"\"\n",
    "\n",
    "    MATCH (source:Station {name: $source}), (target:Station {name: $target})\n",
    "    CALL gds.shortestPath.dijkstra.stream(\n",
    "        'ds_graph', \n",
    "        { sourceNode: source, \n",
    "          targetNode: target, \n",
    "          relationshipWeightProperty: 'weight'\n",
    "        }\n",
    "    )\n",
    "    YIELD index, sourceNode, targetNode, totalCost, nodeIds, costs, path\n",
    "    RETURN\n",
    "        gds.util.asNode(sourceNode).name AS from,\n",
    "        gds.util.asNode(targetNode).name AS to,\n",
    "        totalCost,\n",
    "        [nodeId IN nodeIds | gds.util.asNode(nodeId).name] AS nodes,\n",
    "        costs\n",
    "    ORDER BY index\n",
    "\n",
    "    \"\"\"\n",
    "\n",
    "    result = session.run(query, source=from_station, target=to_station)\n",
    "    \n",
    "    for r in result:\n",
    "        \n",
    "        total_cost = int(r['totalCost'])\n",
    "        \n",
    "        print(\"\\n--------------------------------\")\n",
    "        print(\"   Total Cost: \", total_cost)\n",
    "        print(\"   Minutes: \", round(total_cost / 60.0,1))\n",
    "        print(\"--------------------------------\")\n",
    "        \n",
    "        nodes = r['nodes']\n",
    "        costs = r['costs']\n",
    "        \n",
    "        i = 0\n",
    "        previous = 0\n",
    "        \n",
    "        for n in nodes:\n",
    "            \n",
    "            print(n + \", \" + str(int(costs[i]) - previous)  + \", \" + str(int(costs[i])))\n",
    "            \n",
    "            previous = int(costs[i])\n",
    "            i += 1\n",
    "    "
   ]
  },
  {
   "cell_type": "markdown",
   "id": "5a0ce0cb",
   "metadata": {},
   "source": [
    "## Use the function my_neo4j_shortest_path() to check and compare the travel times between Downtown Berkeley to the end stations of all lines. Our main store is located at Berkeley."
   ]
  },
  {
   "cell_type": "code",
   "execution_count": 5,
   "id": "ad96eb60",
   "metadata": {},
   "outputs": [
    {
     "name": "stdout",
     "output_type": "stream",
     "text": [
      "\n",
      "--------------------------------\n",
      "   Total Cost:  780\n",
      "   Minutes:  13.0\n",
      "--------------------------------\n",
      "depart Downtown Berkeley, 0, 0\n",
      "orange Downtown Berkeley, 0, 0\n",
      "orange North Berkeley, 120, 120\n",
      "orange El Cerrito Plaza, 180, 300\n",
      "orange El Cerrito del Norte, 180, 480\n",
      "orange Richmond, 300, 780\n",
      "arrive Richmond, 0, 780\n"
     ]
    }
   ],
   "source": [
    "# Richmond-Millbrae+SFO Line (Red) end station \n",
    "# Berryessa/North San Jose-Richmond Line (orange) end station\n",
    "my_neo4j_shortest_path('depart Downtown Berkeley', 'arrive Richmond')"
   ]
  },
  {
   "cell_type": "code",
   "execution_count": 6,
   "id": "b09e0747",
   "metadata": {},
   "outputs": [
    {
     "name": "stdout",
     "output_type": "stream",
     "text": [
      "\n",
      "--------------------------------\n",
      "   Total Cost:  3659\n",
      "   Minutes:  61.0\n",
      "--------------------------------\n",
      "depart Downtown Berkeley, 0, 0\n",
      "orange Downtown Berkeley, 0, 0\n",
      "orange Ashby, 180, 180\n",
      "orange MacArthur, 240, 420\n",
      "yellow MacArthur, 59, 479\n",
      "yellow Rockridge, 240, 719\n",
      "yellow Orinda, 300, 1019\n",
      "yellow Lafayette, 300, 1319\n",
      "yellow Walnut Creek, 300, 1619\n",
      "yellow Pleasant Hill, 120, 1739\n",
      "yellow Concord, 360, 2099\n",
      "yellow North Concord, 180, 2279\n",
      "yellow Pittsburg, 360, 2639\n",
      "yellow Pittsburg Center, 600, 3239\n",
      "yellow Antioch, 420, 3659\n",
      "arrive Antioch, 0, 3659\n"
     ]
    }
   ],
   "source": [
    "# Antioch-SFO+Millbrae Line (Yellow) end station \n",
    "my_neo4j_shortest_path('depart Downtown Berkeley', 'arrive Antioch')"
   ]
  },
  {
   "cell_type": "code",
   "execution_count": 7,
   "id": "c62e54be",
   "metadata": {},
   "outputs": [
    {
     "name": "stdout",
     "output_type": "stream",
     "text": [
      "\n",
      "--------------------------------\n",
      "   Total Cost:  2520\n",
      "   Minutes:  42.0\n",
      "--------------------------------\n",
      "depart Downtown Berkeley, 0, 0\n",
      "red Downtown Berkeley, 0, 0\n",
      "red Ashby, 180, 180\n",
      "red MacArthur, 240, 420\n",
      "red 19th Street, 180, 600\n",
      "red 12th Street, 120, 720\n",
      "red West Oakland, 300, 1020\n",
      "red Embarcadero, 420, 1440\n",
      "red Montgomery Street, 60, 1500\n",
      "red Powell Street, 120, 1620\n",
      "red Civic Center, 60, 1680\n",
      "red 16th Street Mission, 180, 1860\n",
      "red 24th Street Mission, 120, 1980\n",
      "red Glen Park, 180, 2160\n",
      "red Balboa Park, 120, 2280\n",
      "red Daly City, 240, 2520\n",
      "arrive Daly City, 0, 2520\n"
     ]
    }
   ],
   "source": [
    "# Richmond-Millbrae+SFO Line (Red) end station \n",
    "# Antioch-SFO+Millbrae Line (Yellow) end station \n",
    "# Dublic/Pleasanton-Daly City Line (Blue) end station\n",
    "# Berryessa/North San Jose-Daly City Line (Green) end station\n",
    "my_neo4j_shortest_path('depart Downtown Berkeley', 'arrive Daly City')"
   ]
  },
  {
   "cell_type": "code",
   "execution_count": 8,
   "id": "7e32526e",
   "metadata": {},
   "outputs": [
    {
     "name": "stdout",
     "output_type": "stream",
     "text": [
      "\n",
      "--------------------------------\n",
      "   Total Cost:  3600\n",
      "   Minutes:  60.0\n",
      "--------------------------------\n",
      "depart Downtown Berkeley, 0, 0\n",
      "red Downtown Berkeley, 0, 0\n",
      "red Ashby, 180, 180\n",
      "red MacArthur, 240, 420\n",
      "red 19th Street, 180, 600\n",
      "red 12th Street, 120, 720\n",
      "red West Oakland, 300, 1020\n",
      "red Embarcadero, 420, 1440\n",
      "red Montgomery Street, 60, 1500\n",
      "red Powell Street, 120, 1620\n",
      "red Civic Center, 60, 1680\n",
      "red 16th Street Mission, 180, 1860\n",
      "red 24th Street Mission, 120, 1980\n",
      "red Glen Park, 180, 2160\n",
      "red Balboa Park, 120, 2280\n",
      "red Daly City, 240, 2520\n",
      "red Colma, 240, 2760\n",
      "red South San Francisco, 180, 2940\n",
      "red San Bruno, 240, 3180\n",
      "red Millbrae, 420, 3600\n",
      "arrive Millbrae, 0, 3600\n"
     ]
    }
   ],
   "source": [
    "# Richmond-Millbrae+SFO Line (Red) end station \n",
    "# Antioch-SFO+Millbrae Line (Yellow) end station \n",
    "my_neo4j_shortest_path('depart Downtown Berkeley', 'arrive Millbrae')"
   ]
  },
  {
   "cell_type": "code",
   "execution_count": 9,
   "id": "3e701a31",
   "metadata": {},
   "outputs": [
    {
     "name": "stdout",
     "output_type": "stream",
     "text": [
      "\n",
      "--------------------------------\n",
      "   Total Cost:  2994\n",
      "   Minutes:  49.9\n",
      "--------------------------------\n",
      "depart Downtown Berkeley, 0, 0\n",
      "orange Downtown Berkeley, 0, 0\n",
      "orange Ashby, 180, 180\n",
      "orange MacArthur, 240, 420\n",
      "orange 19th Street, 180, 600\n",
      "orange 12th Street, 120, 720\n",
      "orange Lake Merritt, 180, 900\n",
      "orange Fruitvale, 300, 1200\n",
      "orange Coliseum, 240, 1440\n",
      "blue Coliseum, 54, 1494\n",
      "blue San Leandro, 240, 1734\n",
      "blue Bay Fair, 240, 1974\n",
      "blue Castro Valley, 240, 2214\n",
      "blue West Dublin, 600, 2814\n",
      "blue Dublin, 180, 2994\n",
      "arrive Dublin, 0, 2994\n"
     ]
    }
   ],
   "source": [
    "# Dublic/Pleasanton-Daly City Line (Blue) end station\n",
    "my_neo4j_shortest_path('depart Downtown Berkeley', 'arrive Dublin')"
   ]
  },
  {
   "cell_type": "code",
   "execution_count": 10,
   "id": "0d90d9b7",
   "metadata": {},
   "outputs": [
    {
     "name": "stdout",
     "output_type": "stream",
     "text": [
      "\n",
      "--------------------------------\n",
      "   Total Cost:  4200\n",
      "   Minutes:  70.0\n",
      "--------------------------------\n",
      "depart Downtown Berkeley, 0, 0\n",
      "orange Downtown Berkeley, 0, 0\n",
      "orange Ashby, 180, 180\n",
      "orange MacArthur, 240, 420\n",
      "orange 19th Street, 180, 600\n",
      "orange 12th Street, 120, 720\n",
      "orange Lake Merritt, 180, 900\n",
      "orange Fruitvale, 300, 1200\n",
      "orange Coliseum, 240, 1440\n",
      "orange San Leandro, 240, 1680\n",
      "orange Bay Fair, 240, 1920\n",
      "orange Hayward, 240, 2160\n",
      "orange South Hayward, 240, 2400\n",
      "orange Union City, 300, 2700\n",
      "orange Fremont, 300, 3000\n",
      "orange Warm Springs, 360, 3360\n",
      "orange Milpitas, 540, 3900\n",
      "orange Berryessa, 300, 4200\n",
      "arrive Berryessa, 0, 4200\n"
     ]
    }
   ],
   "source": [
    "# Berryessa/North San Jose-Daly City Line (Green) end station\n",
    "# Berryessa/North San Jose-Richmond Line (orange) end station\n",
    "my_neo4j_shortest_path('depart Downtown Berkeley', 'arrive Berryessa')"
   ]
  },
  {
   "cell_type": "code",
   "execution_count": 11,
   "id": "17d0994e",
   "metadata": {},
   "outputs": [
    {
     "name": "stdout",
     "output_type": "stream",
     "text": [
      "\n",
      "--------------------------------\n",
      "   Total Cost:  1974\n",
      "   Minutes:  32.9\n",
      "--------------------------------\n",
      "depart Downtown Berkeley, 0, 0\n",
      "orange Downtown Berkeley, 0, 0\n",
      "orange Ashby, 180, 180\n",
      "orange MacArthur, 240, 420\n",
      "orange 19th Street, 180, 600\n",
      "orange 12th Street, 120, 720\n",
      "orange Lake Merritt, 180, 900\n",
      "orange Fruitvale, 300, 1200\n",
      "orange Coliseum, 240, 1440\n",
      "gray Coliseum, 54, 1494\n",
      "gray OAK, 480, 1974\n",
      "arrive OAK, 0, 1974\n"
     ]
    }
   ],
   "source": [
    "# Oakland International Airport (Gray)\n",
    "my_neo4j_shortest_path('depart Downtown Berkeley', 'arrive OAK')"
   ]
  },
  {
   "cell_type": "code",
   "execution_count": 12,
   "id": "cc30b1ed",
   "metadata": {},
   "outputs": [
    {
     "name": "stdout",
     "output_type": "stream",
     "text": [
      "\n",
      "--------------------------------\n",
      "   Total Cost:  3468\n",
      "   Minutes:  57.8\n",
      "--------------------------------\n",
      "depart Downtown Berkeley, 0, 0\n",
      "red Downtown Berkeley, 0, 0\n",
      "red Ashby, 180, 180\n",
      "red MacArthur, 240, 420\n",
      "red 19th Street, 180, 600\n",
      "red 12th Street, 120, 720\n",
      "red West Oakland, 300, 1020\n",
      "red Embarcadero, 420, 1440\n",
      "red Montgomery Street, 60, 1500\n",
      "red Powell Street, 120, 1620\n",
      "red Civic Center, 60, 1680\n",
      "red 16th Street Mission, 180, 1860\n",
      "red 24th Street Mission, 120, 1980\n",
      "red Glen Park, 180, 2160\n",
      "red Balboa Park, 120, 2280\n",
      "yellow Balboa Park, 48, 2328\n",
      "yellow Daly City, 240, 2568\n",
      "yellow Colma, 240, 2808\n",
      "yellow South San Francisco, 180, 2988\n",
      "yellow San Bruno, 240, 3228\n",
      "yellow SFO, 240, 3468\n",
      "arrive SFO, 0, 3468\n"
     ]
    }
   ],
   "source": [
    "# San Francisco International Airport (Red & Yellow)\n",
    "my_neo4j_shortest_path('depart Downtown Berkeley', 'arrive SFO')"
   ]
  },
  {
   "cell_type": "markdown",
   "id": "7eb29d6e",
   "metadata": {},
   "source": [
    "## Analysis on Shortest Paths from the Downtown Berkeley Station to all end stations of all BART lines.\n",
    "\n",
    "We applied Dijkstra's algorithm on Neo4j to identify the shortest paths from the Downtown Berkeley station to the end stations of all BART lines. The end stations include Richmond, Antioch, Daly City, Millbrae, Dublin, Berryessa, Oakland Airport, and San Francisco Airport. The commute time ranges from 13 minutes to 70 minutes.\n",
    "\n",
    "The shortest trip time is from the Downtown Berkeley Station to the Richmond Station, which takes 13 minutes with either the red or the orange line. The most extended trip is from the Downtown Berkeley Station to the Berryessa Station, which takes 70 minutes or 1 hour and 10 minutes with the orange line. Coincidently, both trips do not need to transfer at any transferring stations.\n",
    "\n",
    "For the trips require the transfer, such as the trips from the Downtown Berkeley station to the Antoich, Dublin, Oakland Airport, and San Francisco Airport stations, we transfer at the MacArthur, Coliseum, and Balboa Park stations.\n",
    "\n",
    "Obviously, the closer to the Downtown Berkeley Station, the shorter the commute time.\n",
    "\n"
   ]
  },
  {
   "cell_type": "markdown",
   "id": "05a8a29b",
   "metadata": {},
   "source": [
    "## use my_select_query_pandas() function to run a select query and return rows in a Pandas dataframe"
   ]
  },
  {
   "cell_type": "code",
   "execution_count": 13,
   "id": "f2f4ef50",
   "metadata": {},
   "outputs": [],
   "source": [
    "#\n",
    "# function to run a select query and return rows in a pandas dataframe\n",
    "# pandas puts all numeric values from postgres to float\n",
    "# if it will fit in an integer, change it to integer\n",
    "#\n",
    "\n",
    "def my_select_query_pandas(query, rollback_before_flag, rollback_after_flag):\n",
    "    \"function to run a select query and return rows in a pandas dataframe\"\n",
    "    \n",
    "    if rollback_before_flag:\n",
    "        connection.rollback()\n",
    "    \n",
    "    df = pd.read_sql_query(query, connection)\n",
    "    \n",
    "    if rollback_after_flag:\n",
    "        connection.rollback()\n",
    "    \n",
    "    # fix the float columns that really should be integers\n",
    "    \n",
    "    for column in df:\n",
    "    \n",
    "        if df[column].dtype == \"float64\":\n",
    "\n",
    "            fraction_flag = False\n",
    "\n",
    "            for value in df[column].values:\n",
    "                \n",
    "                if not np.isnan(value):\n",
    "                    if value - math.floor(value) != 0:\n",
    "                        fraction_flag = True\n",
    "\n",
    "            if not fraction_flag:\n",
    "                df[column] = df[column].astype('Int64')\n",
    "    \n",
    "    return(df)\n",
    "    "
   ]
  },
  {
   "cell_type": "code",
   "execution_count": 14,
   "id": "2c59af95",
   "metadata": {},
   "outputs": [],
   "source": [
    "connection = psycopg2.connect(\n",
    "    user = \"postgres\",\n",
    "    password = \"ucb\",\n",
    "    host = \"postgres\",\n",
    "    port = \"5432\",\n",
    "    database = \"postgres\"\n",
    ")"
   ]
  },
  {
   "cell_type": "markdown",
   "id": "39bafdc8",
   "metadata": {},
   "source": [
    "## Create a cursor for the connection"
   ]
  },
  {
   "cell_type": "code",
   "execution_count": 15,
   "id": "ac36cdc5",
   "metadata": {},
   "outputs": [],
   "source": [
    "cursor = connection.cursor()"
   ]
  },
  {
   "cell_type": "markdown",
   "id": "3d56e548",
   "metadata": {},
   "source": [
    "## Connect Google Map"
   ]
  },
  {
   "cell_type": "code",
   "execution_count": 16,
   "id": "47455c04",
   "metadata": {},
   "outputs": [],
   "source": [
    "f = open('gmap_api_key.txt', 'r')\n",
    "my_api_key = f.read()\n",
    "f.close()\n",
    "\n",
    "gmaps.configure(api_key=my_api_key)"
   ]
  },
  {
   "cell_type": "markdown",
   "id": "0c4d0c0c",
   "metadata": {},
   "source": [
    "## Berkeley Store latitude & longtitude"
   ]
  },
  {
   "cell_type": "code",
   "execution_count": 17,
   "id": "66fba80b",
   "metadata": {},
   "outputs": [
    {
     "data": {
      "text/html": [
       "<div>\n",
       "<style scoped>\n",
       "    .dataframe tbody tr th:only-of-type {\n",
       "        vertical-align: middle;\n",
       "    }\n",
       "\n",
       "    .dataframe tbody tr th {\n",
       "        vertical-align: top;\n",
       "    }\n",
       "\n",
       "    .dataframe thead th {\n",
       "        text-align: right;\n",
       "    }\n",
       "</style>\n",
       "<table border=\"1\" class=\"dataframe\">\n",
       "  <thead>\n",
       "    <tr style=\"text-align: right;\">\n",
       "      <th></th>\n",
       "      <th>store_id</th>\n",
       "      <th>street</th>\n",
       "      <th>city</th>\n",
       "      <th>state</th>\n",
       "      <th>zip</th>\n",
       "      <th>latitude</th>\n",
       "      <th>longitude</th>\n",
       "    </tr>\n",
       "  </thead>\n",
       "  <tbody>\n",
       "    <tr>\n",
       "      <th>0</th>\n",
       "      <td>1</td>\n",
       "      <td>3000 Telegraph Ave</td>\n",
       "      <td>Berkeley</td>\n",
       "      <td>CA</td>\n",
       "      <td>94705</td>\n",
       "      <td>37.8555</td>\n",
       "      <td>-122.2604</td>\n",
       "    </tr>\n",
       "  </tbody>\n",
       "</table>\n",
       "</div>"
      ],
      "text/plain": [
       "   store_id              street      city state    zip  latitude  longitude\n",
       "0         1  3000 Telegraph Ave  Berkeley    CA  94705   37.8555  -122.2604"
      ]
     },
     "execution_count": 17,
     "metadata": {},
     "output_type": "execute_result"
    }
   ],
   "source": [
    "rollback_before_flag = True\n",
    "rollback_after_flag = True\n",
    "\n",
    "query = \"\"\"\n",
    "\n",
    "select * from stores\n",
    "where city = 'Berkeley';\n",
    "\n",
    "\"\"\"\n",
    "\n",
    "df = my_select_query_pandas(query, rollback_before_flag, rollback_after_flag)\n",
    "df"
   ]
  },
  {
   "cell_type": "code",
   "execution_count": 18,
   "id": "a413600d",
   "metadata": {},
   "outputs": [
    {
     "data": {
      "text/html": [
       "<div>\n",
       "<style scoped>\n",
       "    .dataframe tbody tr th:only-of-type {\n",
       "        vertical-align: middle;\n",
       "    }\n",
       "\n",
       "    .dataframe tbody tr th {\n",
       "        vertical-align: top;\n",
       "    }\n",
       "\n",
       "    .dataframe thead th {\n",
       "        text-align: right;\n",
       "    }\n",
       "</style>\n",
       "<table border=\"1\" class=\"dataframe\">\n",
       "  <thead>\n",
       "    <tr style=\"text-align: right;\">\n",
       "      <th></th>\n",
       "      <th>zip</th>\n",
       "      <th>latitude</th>\n",
       "      <th>longitude</th>\n",
       "      <th>city</th>\n",
       "      <th>state</th>\n",
       "      <th>population</th>\n",
       "      <th>area</th>\n",
       "      <th>density</th>\n",
       "      <th>time_zone</th>\n",
       "    </tr>\n",
       "  </thead>\n",
       "  <tbody>\n",
       "    <tr>\n",
       "      <th>0</th>\n",
       "      <td>94705</td>\n",
       "      <td>37.8652</td>\n",
       "      <td>-122.2382</td>\n",
       "      <td>Berkeley</td>\n",
       "      <td>CA</td>\n",
       "      <td>13365</td>\n",
       "      <td>3.4614</td>\n",
       "      <td>3861.16</td>\n",
       "      <td>America/Los_Angeles</td>\n",
       "    </tr>\n",
       "  </tbody>\n",
       "</table>\n",
       "</div>"
      ],
      "text/plain": [
       "     zip  latitude  longitude      city state  population    area  density  \\\n",
       "0  94705   37.8652  -122.2382  Berkeley    CA       13365  3.4614  3861.16   \n",
       "\n",
       "             time_zone  \n",
       "0  America/Los_Angeles  "
      ]
     },
     "execution_count": 18,
     "metadata": {},
     "output_type": "execute_result"
    }
   ],
   "source": [
    "rollback_before_flag = True\n",
    "rollback_after_flag = True\n",
    "\n",
    "query = \"\"\"\n",
    "\n",
    "select distinct z.*\n",
    "from stores as s\n",
    "     join zip_codes as z\n",
    "         on s.zip = z.zip\n",
    "where s.city = 'Berkeley'\n",
    "order by 1,2\n",
    "\n",
    "\"\"\"\n",
    "\n",
    "df = my_select_query_pandas(query, rollback_before_flag, rollback_after_flag)\n",
    "df"
   ]
  },
  {
   "cell_type": "markdown",
   "id": "e9ce018a",
   "metadata": {},
   "source": [
    "## Basic Simple Map"
   ]
  },
  {
   "cell_type": "code",
   "execution_count": 19,
   "id": "043598d9",
   "metadata": {
    "scrolled": false
   },
   "outputs": [
    {
     "data": {
      "application/vnd.jupyter.widget-view+json": {
       "model_id": "f8ce68765b6a432faea87ee7894185cb",
       "version_major": 2,
       "version_minor": 0
      },
      "text/plain": [
       "Figure(layout=FigureLayout(height='420px'))"
      ]
     },
     "metadata": {},
     "output_type": "display_data"
    }
   ],
   "source": [
    "#sather_gate_berkeley = (37.870260430419115, -122.25950168579497)\n",
    "berkeley_store = (37.8652, -122.2382)\n",
    "\n",
    "gmaps.figure(center=berkeley_store, zoom_level=9)"
   ]
  },
  {
   "cell_type": "markdown",
   "id": "0db8e94c",
   "metadata": {},
   "source": [
    "## Transit Layer"
   ]
  },
  {
   "cell_type": "code",
   "execution_count": 20,
   "id": "1b9155dc",
   "metadata": {},
   "outputs": [
    {
     "data": {
      "application/vnd.jupyter.widget-view+json": {
       "model_id": "d44134ea9a00471b9659527f1477842f",
       "version_major": 2,
       "version_minor": 0
      },
      "text/plain": [
       "Figure(layout=FigureLayout(height='420px'))"
      ]
     },
     "metadata": {},
     "output_type": "display_data"
    }
   ],
   "source": [
    "fig = gmaps.figure(center=berkeley_store, zoom_level=10)\n",
    "\n",
    "fig.add_layer(gmaps.transit_layer())\n",
    "\n",
    "fig"
   ]
  },
  {
   "cell_type": "code",
   "execution_count": null,
   "id": "ac2405a5",
   "metadata": {},
   "outputs": [],
   "source": []
  }
 ],
 "metadata": {
  "kernelspec": {
   "display_name": "Python 3",
   "language": "python",
   "name": "python3"
  },
  "language_info": {
   "codemirror_mode": {
    "name": "ipython",
    "version": 3
   },
   "file_extension": ".py",
   "mimetype": "text/x-python",
   "name": "python",
   "nbconvert_exporter": "python",
   "pygments_lexer": "ipython3",
   "version": "3.8.8"
  }
 },
 "nbformat": 4,
 "nbformat_minor": 5
}
